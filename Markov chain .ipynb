{
 "cells": [
  {
   "cell_type": "code",
   "execution_count": 3,
   "id": "f15a1047",
   "metadata": {},
   "outputs": [],
   "source": [
    "from protopunica import*\n",
    "import numpy as np"
   ]
  },
  {
   "cell_type": "raw",
   "id": "cfe16a3d",
   "metadata": {},
   "source": [
    "initial state"
   ]
  },
  {
   "cell_type": "code",
   "execution_count": 5,
   "id": "8dcdaa9d",
   "metadata": {},
   "outputs": [],
   "source": [
    "start=DiscreteDistribution({\n",
    "    \"pizza\":1,\n",
    "    \"Veg\":0\n",
    "})"
   ]
  },
  {
   "cell_type": "raw",
   "id": "37456506",
   "metadata": {},
   "source": [
    "transition matrix"
   ]
  },
  {
   "cell_type": "code",
   "execution_count": 8,
   "id": "f874c10f",
   "metadata": {},
   "outputs": [],
   "source": [
    "transition=ConditionalProbabilityTable([\n",
    "    [\"pizza\",\"pizza\",0.75],\n",
    "    [\"pizza\",\"Veg\",0.25],\n",
    "    [\"Veg\",\"Veg\",0.6],\n",
    "    [\"Veg\",\"pizza\",0.4]\n",
    "],[start])"
   ]
  },
  {
   "cell_type": "code",
   "execution_count": 12,
   "id": "7b79575b",
   "metadata": {},
   "outputs": [],
   "source": [
    "Model = MarkovChain([start,transition])"
   ]
  },
  {
   "cell_type": "code",
   "execution_count": 13,
   "id": "7cf13fe6",
   "metadata": {},
   "outputs": [],
   "source": [
    "Random_samples = Model.sample(2)"
   ]
  },
  {
   "cell_type": "code",
   "execution_count": 14,
   "id": "d459d738",
   "metadata": {},
   "outputs": [
    {
     "name": "stdout",
     "output_type": "stream",
     "text": [
      "['pizza', 'pizza']\n"
     ]
    }
   ],
   "source": [
    "print(Random_samples)"
   ]
  },
  {
   "cell_type": "code",
   "execution_count": 23,
   "id": "d41749a6",
   "metadata": {},
   "outputs": [],
   "source": [
    "Log_probability=Model.log_probability(Random_samples)"
   ]
  },
  {
   "cell_type": "code",
   "execution_count": 25,
   "id": "e1158908",
   "metadata": {},
   "outputs": [],
   "source": [
    "probability_of_Occurance = np.exp(Log_probability)"
   ]
  },
  {
   "cell_type": "code",
   "execution_count": 26,
   "id": "769a8006",
   "metadata": {},
   "outputs": [
    {
     "data": {
      "text/plain": [
       "0.75"
      ]
     },
     "execution_count": 26,
     "metadata": {},
     "output_type": "execute_result"
    }
   ],
   "source": [
    "probability_of_Occurance"
   ]
  },
  {
   "cell_type": "code",
   "execution_count": 27,
   "id": "40bc78ec",
   "metadata": {},
   "outputs": [],
   "source": [
    "Log_probability_Food_Sequence = Model.log_probability([\"pizza\",\"Veg\",\"Veg\",\"Veg\"])"
   ]
  },
  {
   "cell_type": "code",
   "execution_count": 28,
   "id": "03a6be91",
   "metadata": {},
   "outputs": [],
   "source": [
    "probability_of_Food = np.exp(Log_probability_Food_Sequence)"
   ]
  },
  {
   "cell_type": "code",
   "execution_count": 29,
   "id": "2c3d62d3",
   "metadata": {},
   "outputs": [
    {
     "name": "stdout",
     "output_type": "stream",
     "text": [
      "0.09000000000000001\n"
     ]
    }
   ],
   "source": [
    "print(probability_of_Food )"
   ]
  },
  {
   "cell_type": "code",
   "execution_count": null,
   "id": "0569430d",
   "metadata": {},
   "outputs": [],
   "source": []
  }
 ],
 "metadata": {
  "kernelspec": {
   "display_name": "Python 3 (ipykernel)",
   "language": "python",
   "name": "python3"
  },
  "language_info": {
   "codemirror_mode": {
    "name": "ipython",
    "version": 3
   },
   "file_extension": ".py",
   "mimetype": "text/x-python",
   "name": "python",
   "nbconvert_exporter": "python",
   "pygments_lexer": "ipython3",
   "version": "3.9.17"
  }
 },
 "nbformat": 4,
 "nbformat_minor": 5
}
